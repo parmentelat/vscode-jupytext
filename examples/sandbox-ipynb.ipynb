{
 "cells": [
  {
   "cell_type": "markdown",
   "id": "0",
   "metadata": {
    "slideshow": {
     "slide_type": "-"
    },
    "user_expressions": []
   },
   "source": [
    "Licence CC BY-NC-ND, Thierry Parmentelat"
   ]
  },
  {
   "cell_type": "markdown",
   "id": "1",
   "metadata": {
    "user_expressions": []
   },
   "source": [
    "# purpose\n",
    "\n",
    "this is the ipynb version\n",
    "\n",
    "playing with the various ways to implement:\n",
    "\n",
    "* basic jupytext i.e. automatic conversion to ipynb for using a jupytext notebook under vs-code\n",
    "\n",
    "* hide content, either for\n",
    "  * hiding code cell input\n",
    "  * make markdown fragments collapsible\n",
    "\n",
    "* and regular admonitions like primarily *note*s  \n",
    "  which btw can also be made collapsible\n",
    "\n",
    "and hopefully all this should work in the following contexts\n",
    "\n",
    "* jupyter book output, which is now our primary output medium\n",
    "* classic notebook, which although it is almost deprecated, remains our main editing tool\n",
    "* jlab, but apparently this is mostly a hopeless goal"
   ]
  },
  {
   "cell_type": "markdown",
   "id": "2",
   "metadata": {
    "tags": [],
    "user_expressions": []
   },
   "source": [
    "## references\n",
    "\n",
    "* jbook: <https://jupyterbook.org/en/stable/interactive/hiding.html>\n",
    "* myst: <https://myst-tools.org/docs/spec/admonitions>"
   ]
  },
  {
   "cell_type": "markdown",
   "id": "3",
   "metadata": {
    "user_expressions": []
   },
   "source": [
    "## collapsable"
   ]
  },
  {
   "cell_type": "markdown",
   "id": "4",
   "metadata": {
    "user_expressions": []
   },
   "source": [
    "### code cells\n",
    "\n",
    "the next code cell is marked as\n",
    "\n",
    "1. `metadata.hide_input=true`\n",
    "1. and metadata.tags contains 'hide-input'\n",
    "\n",
    "* because of (1) the cell input will not show under nbclassic  \n",
    "  this requires the jupyter contrib extensions installed, and the hide-input extension enabled\n",
    "* thanks to (2) the jb HTML output will come as a collapsible\n",
    "* however under jupyter lab **the code cell input is still visible**"
   ]
  },
  {
   "cell_type": "markdown",
   "id": "5",
   "metadata": {
    "user_expressions": []
   },
   "source": [
    "↓↓↓↓↓↓↓↓↓↓↓↓↓↓↓↓↓↓↓↓↓↓↓↓ hide-input cell below"
   ]
  },
  {
   "cell_type": "code",
   "execution_count": null,
   "id": "6",
   "metadata": {
    "hide_input": true,
    "tags": [
     "hide-input"
    ]
   },
   "outputs": [],
   "source": [
    "# this text whould be hidden\n",
    "print(\"should show the output but not the code\")"
   ]
  },
  {
   "cell_type": "markdown",
   "id": "7",
   "metadata": {
    "user_expressions": []
   },
   "source": [
    "↑↑↑↑↑↑↑↑↑↑↑↑↑↑↑↑↑↑↑↑↑↑↑↑ hide-input cell above"
   ]
  },
  {
   "cell_type": "markdown",
   "id": "8",
   "metadata": {
    "user_expressions": []
   },
   "source": [
    "## admonitions"
   ]
  },
  {
   "cell_type": "code",
   "execution_count": null,
   "id": "9",
   "metadata": {},
   "outputs": [],
   "source": [
    "# this is the required piece\n",
    "%pip show jupyterlab-myst"
   ]
  },
  {
   "cell_type": "markdown",
   "id": "10",
   "metadata": {
    "user_expressions": []
   },
   "source": [
    "here is an simple untagged admonition with the `dropdown` class:\n",
    "\n",
    "```{admonition} Click the button to reveal!\n",
    ":class: dropdown\n",
    "Some hidden toggle content!\n",
    "```"
   ]
  },
  {
   "cell_type": "markdown",
   "id": "11",
   "metadata": {
    "tags": [],
    "user_expressions": []
   },
   "source": [
    "```{admonition} without the dropdown class\n",
    "this is a regular *admonition* with a custom title  \n",
    "not sure how to change the color then\n",
    "```"
   ]
  },
  {
   "cell_type": "markdown",
   "id": "12",
   "metadata": {
    "user_expressions": []
   },
   "source": [
    "```{tip} \n",
    "1/10 Let's give readers a helpful hint! - this one uses ```\n",
    "```"
   ]
  },
  {
   "cell_type": "markdown",
   "id": "13",
   "metadata": {
    "user_expressions": []
   },
   "source": [
    ":::{note}\n",
    "2/10 note: you can use either ``` or :::\n",
    ":::"
   ]
  },
  {
   "cell_type": "markdown",
   "id": "14",
   "metadata": {
    "user_expressions": []
   },
   "source": [
    "```{attention}\n",
    "3/10 let us try this\n",
    "```"
   ]
  },
  {
   "cell_type": "markdown",
   "id": "15",
   "metadata": {
    "user_expressions": []
   },
   "source": [
    "```{caution}\n",
    "4/10 let us try this\n",
    "```"
   ]
  },
  {
   "cell_type": "markdown",
   "id": "16",
   "metadata": {
    "user_expressions": []
   },
   "source": [
    "```{danger}\n",
    "5/10 let us try this\n",
    "```"
   ]
  },
  {
   "cell_type": "markdown",
   "id": "17",
   "metadata": {
    "user_expressions": []
   },
   "source": [
    "```{error}\n",
    "6/10 let us try this\n",
    "```"
   ]
  },
  {
   "cell_type": "markdown",
   "id": "18",
   "metadata": {
    "user_expressions": []
   },
   "source": [
    "```{hint}\n",
    "7/10 let us try this\n",
    "```"
   ]
  },
  {
   "cell_type": "markdown",
   "id": "19",
   "metadata": {
    "user_expressions": []
   },
   "source": [
    "```{important}\n",
    "8/10 let us try this\n",
    "```"
   ]
  },
  {
   "cell_type": "markdown",
   "id": "20",
   "metadata": {
    "tags": [],
    "user_expressions": []
   },
   "source": [
    "```{seealso}\n",
    "9/10 let us try this\n",
    "```"
   ]
  },
  {
   "cell_type": "markdown",
   "id": "21",
   "metadata": {
    "user_expressions": []
   },
   "source": [
    "```{warning}\n",
    "10/10 let us try this\n",
    "```"
   ]
  },
  {
   "cell_type": "markdown",
   "id": "22",
   "metadata": {
    "tags": [],
    "user_expressions": []
   },
   "source": [
    ":::{danger} with class dropdown\n",
    ":class: dropdown\n",
    "note: you can use either ``` or :::\n",
    ":::"
   ]
  }
 ],
 "metadata": {
  "celltoolbar": "Edit Metadata",
  "jupytext": {
   "cell_metadata_filter": "all,-hidden,-heading_collapsed,-run_control,-trusted",
   "notebook_metadata_filter": "all,-language_info,-toc,-jupytext.text_representation.jupytext_version,-jupytext.text_representation.format_version"
  },
  "kernelspec": {
   "display_name": "Python 3 (ipykernel)",
   "language": "python",
   "name": "python3"
  },
  "language_info": {
   "codemirror_mode": {
    "name": "ipython",
    "version": 3
   },
   "file_extension": ".py",
   "mimetype": "text/x-python",
   "name": "python",
   "nbconvert_exporter": "python",
   "pygments_lexer": "ipython3",
   "version": "3.12.5"
  },
  "nbhosting": {
   "title": "React apps basics"
  },
  "rise": {
   "autolaunch": true,
   "slideNumber": "c/t",
   "start_slideshow_at": "selected",
   "theme": "sky",
   "transition": "cube"
  }
 },
 "nbformat": 4,
 "nbformat_minor": 5
}
